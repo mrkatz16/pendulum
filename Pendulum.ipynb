{
 "cells": [
  {
   "cell_type": "markdown",
   "id": "d4b6ea2c",
   "metadata": {},
   "source": [
    "### Так как проекции ускорения на оси координат нам известны из условия, найдем проекции вектора скорости по следующим формулам:\n",
    "$$\n",
    "\\Large v_x = d^{2}x * Δt + v_{x0}\n",
    "$$\n",
    "$$\n",
    "\\Large  v_y = d^{2}y * Δt + v_{y0}\n",
    "$$\n",
    "### где  $ v_{x0} = -4/5 $, $ v_{y0} = -3/5 $.\n",
    "\n",
    "### По схожей логике, получим координаты маятника по прошествию $ Δt $:\n",
    "$$\n",
    "\\Large x = v_x * Δt + x_{0}\n",
    "$$\n",
    "$$\n",
    "\\Large y = v_y * Δt + y_{0}\n",
    "$$\n",
    "### где  $ x_{0} = 3 $, $ y_{0} = -4 $.\n",
    "\n",
    "### Преобразив формулы, получим систему из трёх уравнений \n",
    "$$ \\Large x = -\\frac{T Δt^2 x_{0}}{L}+{Δt}*{v_{x0}} + x_{0} $$,\n",
    "$$ \\Large y = -\\frac{T Δt^2 y_{0}}{L}+Δt*v_{y0} - Δt^2*g(t) + y_{0} $$.\n",
    "$$ \\Large x^2 + y^2 = L^2 $$\n",
    "### с тремя неизвестными $ x, y, T $. \n",
    "\n",
    "### Присвоим $ Δt $ какое-либо маленькое значение, на каждом шаге будем обновлять счетчик времени $ t = t + Δt $ и решать данную систему уравнений."
   ]
  },
  {
   "cell_type": "code",
   "execution_count": 4,
   "id": "61e668db",
   "metadata": {},
   "outputs": [
    {
     "name": "stdout",
     "output_type": "stream",
     "text": [
      "t=0.01, x=2.9915, y=-4.0063\n",
      "t=0.02, x=2.9826, y=-4.0130\n",
      "t=0.03, x=2.9731, y=-4.0200\n",
      "t=0.04, x=2.9632, y=-4.0274\n",
      "t=0.05, x=2.9528, y=-4.0350\n",
      "t=0.06, x=2.9418, y=-4.0430\n",
      "t=0.07, x=2.9304, y=-4.0512\n",
      "t=0.08, x=2.9185, y=-4.0598\n",
      "t=0.09, x=2.9062, y=-4.0687\n",
      "t=0.10, x=2.8933, y=-4.0779\n",
      "t=0.11, x=2.8799, y=-4.0873\n",
      "t=0.12, x=2.8660, y=-4.0971\n",
      "t=0.13, x=2.8517, y=-4.1071\n",
      "t=0.14, x=2.8368, y=-4.1173\n",
      "t=0.15, x=2.8214, y=-4.1279\n",
      "t=0.16, x=2.8056, y=-4.1387\n",
      "t=0.17, x=2.7892, y=-4.1497\n",
      "t=0.18, x=2.7724, y=-4.1610\n",
      "t=0.19, x=2.7550, y=-4.1725\n",
      "t=0.20, x=2.7371, y=-4.1843\n",
      "t=0.21, x=2.7188, y=-4.1962\n",
      "t=0.22, x=2.6999, y=-4.2084\n",
      "t=0.23, x=2.6805, y=-4.2208\n",
      "t=0.24, x=2.6606, y=-4.2333\n",
      "t=99.75, x=-1.6051, y=-4.7354\n",
      "t=99.76, x=-1.5676, y=-4.7479\n",
      "t=99.77, x=-1.5298, y=-4.7602\n",
      "t=99.78, x=-1.4915, y=-4.7724\n",
      "t=99.79, x=-1.4529, y=-4.7843\n",
      "t=99.80, x=-1.4139, y=-4.7959\n",
      "t=99.81, x=-1.3745, y=-4.8074\n",
      "t=99.82, x=-1.3348, y=-4.8185\n",
      "t=99.83, x=-1.2948, y=-4.8295\n",
      "t=99.84, x=-1.2544, y=-4.8401\n",
      "t=99.85, x=-1.2137, y=-4.8505\n",
      "t=99.86, x=-1.1726, y=-4.8605\n",
      "t=99.87, x=-1.1313, y=-4.8703\n",
      "t=99.88, x=-1.0897, y=-4.8798\n",
      "t=99.89, x=-1.0477, y=-4.8890\n",
      "t=99.90, x=-1.0055, y=-4.8978\n",
      "t=99.91, x=-0.9631, y=-4.9064\n",
      "t=99.92, x=-0.9204, y=-4.9146\n",
      "t=99.93, x=-0.8774, y=-4.9224\n",
      "t=99.94, x=-0.8342, y=-4.9299\n",
      "t=99.95, x=-0.7908, y=-4.9371\n",
      "t=99.96, x=-0.7471, y=-4.9439\n",
      "t=99.97, x=-0.7033, y=-4.9503\n",
      "t=99.98, x=-0.6592, y=-4.9564\n",
      "t=99.99, x=-0.6150, y=-4.9620\n",
      "t=100.00, x=-0.5706, y=-4.9673\n"
     ]
    }
   ],
   "source": [
    "import numpy as np\n",
    "\n",
    "def g(t):\n",
    "    return 9.81+0.05*np.sin(2*np.pi*t)\n",
    "    \n",
    "def solve_for_T(dt, vx0, vy0, x0, y0, g):\n",
    "    T = -(5*np.sqrt((25-dt**2*vx0**2)*y0**2+(2*dt**2*vx0*vy0-2*dt**3*g*vx0)*x0*y0+(-dt**2*vy0**2+2*dt**3*g*vy0-dt**4*g**2+25)*x0**2)-5*y0**2+(5*dt**2*g-5*dt*vy0)*y0-5*x0**2-5*dt*vx0*x0)/(dt**2*y0**2+dt**2*x0**2) \n",
    "    return T\n",
    "\n",
    "# Initial conditions\n",
    "L = 5\n",
    "vx0, vy0, x0, y0 = -4/5, -3/5, 3, -4\n",
    "\n",
    "vx, vy, x, y = vx0, vy0, x0, y0\n",
    "t, dt = 0, 0.01\n",
    "gkeys, gvalues = [], []\n",
    "\n",
    "while t < 100:\n",
    "    t += dt\n",
    "    g_ = g(t)\n",
    "    T = solve_for_T(dt, vx, vy, x, y, g_)\n",
    "    ax = -x/L*T\n",
    "    ay = -y/L*T - g_\n",
    "    vx = ax * dt + vx\n",
    "    vy = ay * dt + vy\n",
    "    x = vx * dt + x\n",
    "    y = vy * dt + y\n",
    "    \n",
    "    gkeys.append(t)\n",
    "    gvalues.append(np.sqrt(x**2+y**2))\n",
    "    \n",
    "    if t > 99.75 or t < 0.25:\n",
    "        print(f\"t={t:.2f}, x={x:.4f}, y={y:.4f}\")"
   ]
  },
  {
   "cell_type": "markdown",
   "id": "caaf7e30",
   "metadata": {},
   "source": [
    "### Построим график длины маятника в зависимости от времени $ t $."
   ]
  },
  {
   "cell_type": "code",
   "execution_count": 5,
   "id": "01c53b05",
   "metadata": {},
   "outputs": [
    {
     "data": {
      "image/png": "[encoded data removed]",
      "text/plain": [
       "<Figure size 640x480 with 1 Axes>"
      ]
     },
     "metadata": {},
     "output_type": "display_data"
    }
   ],
   "source": [
    "import matplotlib.pyplot as plt\n",
    "plt.plot(gkeys, gvalues)\n",
    "plt.ylabel('L (ength)')\n",
    "plt.xlabel('Time')\n",
    "plt.show()"
   ]
  }
 ],
 "metadata": {
  "kernelspec": {
   "display_name": "Python 3 (ipykernel)",
   "language": "python",
   "name": "python3"
  },
  "language_info": {
   "codemirror_mode": {
    "name": "ipython",
    "version": 3
   },
   "file_extension": ".py",
   "mimetype": "text/x-python",
   "name": "python",
   "nbconvert_exporter": "python",
   "pygments_lexer": "ipython3",
   "version": "3.8.10"
  }
 },
 "nbformat": 4,
 "nbformat_minor": 5
}
